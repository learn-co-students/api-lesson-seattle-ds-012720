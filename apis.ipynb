{
 "cells": [
  {
   "cell_type": "markdown",
   "metadata": {},
   "source": [
    "# APIs"
   ]
  },
  {
   "cell_type": "markdown",
   "metadata": {},
   "source": [
    "**Prerequisites:** You need the `requests` package for this lesson.  You should be able to install it with `conda`."
   ]
  },
  {
   "cell_type": "markdown",
   "metadata": {},
   "source": [
    "## Reading Existing Code (Google Books Query)\n",
    " - Uses the Python [`requests` library](https://2.python-requests.org/en/master/)\n",
    " - Uses the [Google Books API](https://developers.google.com/books/docs/v1/using#WorkingVolumes)\n",
    " - Searches for author \"Jake VanderPlas\" (author of my go-to Python data science book)\n",
    " - Prints out a list of book titles that match this query"
   ]
  },
  {
   "cell_type": "code",
   "execution_count": 6,
   "metadata": {},
   "outputs": [
    {
     "name": "stdout",
     "output_type": "stream",
     "text": [
      "Stephen King, American Master\n",
      "It\n",
      "On Writing\n",
      "Night Shift\n",
      "The Outsider\n",
      "Danse Macabre\n",
      "Carrie\n",
      "Cell\n",
      "The Mist\n",
      "Stephen King Goes to the Movies\n"
     ]
    }
   ],
   "source": [
    "import requests\n",
    "\n",
    "response = requests.get(\"https://www.googleapis.com/books/v1/volumes?q=inauthor:Stephen+King\")\n",
    "\n",
    "if response.status_code == 200:\n",
    "    response_dict = response.json()\n",
    "\n",
    "    books = response_dict[\"items\"]\n",
    "\n",
    "    for book_dict in books:\n",
    "        info_dict = book_dict[\"volumeInfo\"]\n",
    "        print(info_dict[\"title\"])\n",
    "else:\n",
    "    print(\"Error: unable to retrieve books.  Server responded with status code\", response.status_code)"
   ]
  },
  {
   "cell_type": "markdown",
   "metadata": {},
   "source": [
    "## Exercise\n",
    "\n",
    "Use the PokeAPI to get data on Pokemon. Let's first define functions to get information from the API. Provided below is a URL that will get you started with the first 151 Pokemon! Run the cell below to see what we get."
   ]
  },
  {
   "cell_type": "code",
   "execution_count": 7,
   "metadata": {},
   "outputs": [
    {
     "data": {
      "text/plain": [
       "[{'name': 'bulbasaur', 'url': 'https://pokeapi.co/api/v2/pokemon/1/'},\n",
       " {'name': 'ivysaur', 'url': 'https://pokeapi.co/api/v2/pokemon/2/'},\n",
       " {'name': 'venusaur', 'url': 'https://pokeapi.co/api/v2/pokemon/3/'},\n",
       " {'name': 'charmander', 'url': 'https://pokeapi.co/api/v2/pokemon/4/'},\n",
       " {'name': 'charmeleon', 'url': 'https://pokeapi.co/api/v2/pokemon/5/'},\n",
       " {'name': 'charizard', 'url': 'https://pokeapi.co/api/v2/pokemon/6/'},\n",
       " {'name': 'squirtle', 'url': 'https://pokeapi.co/api/v2/pokemon/7/'},\n",
       " {'name': 'wartortle', 'url': 'https://pokeapi.co/api/v2/pokemon/8/'},\n",
       " {'name': 'blastoise', 'url': 'https://pokeapi.co/api/v2/pokemon/9/'},\n",
       " {'name': 'caterpie', 'url': 'https://pokeapi.co/api/v2/pokemon/10/'},\n",
       " {'name': 'metapod', 'url': 'https://pokeapi.co/api/v2/pokemon/11/'},\n",
       " {'name': 'butterfree', 'url': 'https://pokeapi.co/api/v2/pokemon/12/'},\n",
       " {'name': 'weedle', 'url': 'https://pokeapi.co/api/v2/pokemon/13/'},\n",
       " {'name': 'kakuna', 'url': 'https://pokeapi.co/api/v2/pokemon/14/'},\n",
       " {'name': 'beedrill', 'url': 'https://pokeapi.co/api/v2/pokemon/15/'},\n",
       " {'name': 'pidgey', 'url': 'https://pokeapi.co/api/v2/pokemon/16/'},\n",
       " {'name': 'pidgeotto', 'url': 'https://pokeapi.co/api/v2/pokemon/17/'},\n",
       " {'name': 'pidgeot', 'url': 'https://pokeapi.co/api/v2/pokemon/18/'},\n",
       " {'name': 'rattata', 'url': 'https://pokeapi.co/api/v2/pokemon/19/'},\n",
       " {'name': 'raticate', 'url': 'https://pokeapi.co/api/v2/pokemon/20/'},\n",
       " {'name': 'spearow', 'url': 'https://pokeapi.co/api/v2/pokemon/21/'},\n",
       " {'name': 'fearow', 'url': 'https://pokeapi.co/api/v2/pokemon/22/'},\n",
       " {'name': 'ekans', 'url': 'https://pokeapi.co/api/v2/pokemon/23/'},\n",
       " {'name': 'arbok', 'url': 'https://pokeapi.co/api/v2/pokemon/24/'},\n",
       " {'name': 'pikachu', 'url': 'https://pokeapi.co/api/v2/pokemon/25/'},\n",
       " {'name': 'raichu', 'url': 'https://pokeapi.co/api/v2/pokemon/26/'},\n",
       " {'name': 'sandshrew', 'url': 'https://pokeapi.co/api/v2/pokemon/27/'},\n",
       " {'name': 'sandslash', 'url': 'https://pokeapi.co/api/v2/pokemon/28/'},\n",
       " {'name': 'nidoran-f', 'url': 'https://pokeapi.co/api/v2/pokemon/29/'},\n",
       " {'name': 'nidorina', 'url': 'https://pokeapi.co/api/v2/pokemon/30/'},\n",
       " {'name': 'nidoqueen', 'url': 'https://pokeapi.co/api/v2/pokemon/31/'},\n",
       " {'name': 'nidoran-m', 'url': 'https://pokeapi.co/api/v2/pokemon/32/'},\n",
       " {'name': 'nidorino', 'url': 'https://pokeapi.co/api/v2/pokemon/33/'},\n",
       " {'name': 'nidoking', 'url': 'https://pokeapi.co/api/v2/pokemon/34/'},\n",
       " {'name': 'clefairy', 'url': 'https://pokeapi.co/api/v2/pokemon/35/'},\n",
       " {'name': 'clefable', 'url': 'https://pokeapi.co/api/v2/pokemon/36/'},\n",
       " {'name': 'vulpix', 'url': 'https://pokeapi.co/api/v2/pokemon/37/'},\n",
       " {'name': 'ninetales', 'url': 'https://pokeapi.co/api/v2/pokemon/38/'},\n",
       " {'name': 'jigglypuff', 'url': 'https://pokeapi.co/api/v2/pokemon/39/'},\n",
       " {'name': 'wigglytuff', 'url': 'https://pokeapi.co/api/v2/pokemon/40/'},\n",
       " {'name': 'zubat', 'url': 'https://pokeapi.co/api/v2/pokemon/41/'},\n",
       " {'name': 'golbat', 'url': 'https://pokeapi.co/api/v2/pokemon/42/'},\n",
       " {'name': 'oddish', 'url': 'https://pokeapi.co/api/v2/pokemon/43/'},\n",
       " {'name': 'gloom', 'url': 'https://pokeapi.co/api/v2/pokemon/44/'},\n",
       " {'name': 'vileplume', 'url': 'https://pokeapi.co/api/v2/pokemon/45/'},\n",
       " {'name': 'paras', 'url': 'https://pokeapi.co/api/v2/pokemon/46/'},\n",
       " {'name': 'parasect', 'url': 'https://pokeapi.co/api/v2/pokemon/47/'},\n",
       " {'name': 'venonat', 'url': 'https://pokeapi.co/api/v2/pokemon/48/'},\n",
       " {'name': 'venomoth', 'url': 'https://pokeapi.co/api/v2/pokemon/49/'},\n",
       " {'name': 'diglett', 'url': 'https://pokeapi.co/api/v2/pokemon/50/'},\n",
       " {'name': 'dugtrio', 'url': 'https://pokeapi.co/api/v2/pokemon/51/'},\n",
       " {'name': 'meowth', 'url': 'https://pokeapi.co/api/v2/pokemon/52/'},\n",
       " {'name': 'persian', 'url': 'https://pokeapi.co/api/v2/pokemon/53/'},\n",
       " {'name': 'psyduck', 'url': 'https://pokeapi.co/api/v2/pokemon/54/'},\n",
       " {'name': 'golduck', 'url': 'https://pokeapi.co/api/v2/pokemon/55/'},\n",
       " {'name': 'mankey', 'url': 'https://pokeapi.co/api/v2/pokemon/56/'},\n",
       " {'name': 'primeape', 'url': 'https://pokeapi.co/api/v2/pokemon/57/'},\n",
       " {'name': 'growlithe', 'url': 'https://pokeapi.co/api/v2/pokemon/58/'},\n",
       " {'name': 'arcanine', 'url': 'https://pokeapi.co/api/v2/pokemon/59/'},\n",
       " {'name': 'poliwag', 'url': 'https://pokeapi.co/api/v2/pokemon/60/'},\n",
       " {'name': 'poliwhirl', 'url': 'https://pokeapi.co/api/v2/pokemon/61/'},\n",
       " {'name': 'poliwrath', 'url': 'https://pokeapi.co/api/v2/pokemon/62/'},\n",
       " {'name': 'abra', 'url': 'https://pokeapi.co/api/v2/pokemon/63/'},\n",
       " {'name': 'kadabra', 'url': 'https://pokeapi.co/api/v2/pokemon/64/'},\n",
       " {'name': 'alakazam', 'url': 'https://pokeapi.co/api/v2/pokemon/65/'},\n",
       " {'name': 'machop', 'url': 'https://pokeapi.co/api/v2/pokemon/66/'},\n",
       " {'name': 'machoke', 'url': 'https://pokeapi.co/api/v2/pokemon/67/'},\n",
       " {'name': 'machamp', 'url': 'https://pokeapi.co/api/v2/pokemon/68/'},\n",
       " {'name': 'bellsprout', 'url': 'https://pokeapi.co/api/v2/pokemon/69/'},\n",
       " {'name': 'weepinbell', 'url': 'https://pokeapi.co/api/v2/pokemon/70/'},\n",
       " {'name': 'victreebel', 'url': 'https://pokeapi.co/api/v2/pokemon/71/'},\n",
       " {'name': 'tentacool', 'url': 'https://pokeapi.co/api/v2/pokemon/72/'},\n",
       " {'name': 'tentacruel', 'url': 'https://pokeapi.co/api/v2/pokemon/73/'},\n",
       " {'name': 'geodude', 'url': 'https://pokeapi.co/api/v2/pokemon/74/'},\n",
       " {'name': 'graveler', 'url': 'https://pokeapi.co/api/v2/pokemon/75/'},\n",
       " {'name': 'golem', 'url': 'https://pokeapi.co/api/v2/pokemon/76/'},\n",
       " {'name': 'ponyta', 'url': 'https://pokeapi.co/api/v2/pokemon/77/'},\n",
       " {'name': 'rapidash', 'url': 'https://pokeapi.co/api/v2/pokemon/78/'},\n",
       " {'name': 'slowpoke', 'url': 'https://pokeapi.co/api/v2/pokemon/79/'},\n",
       " {'name': 'slowbro', 'url': 'https://pokeapi.co/api/v2/pokemon/80/'},\n",
       " {'name': 'magnemite', 'url': 'https://pokeapi.co/api/v2/pokemon/81/'},\n",
       " {'name': 'magneton', 'url': 'https://pokeapi.co/api/v2/pokemon/82/'},\n",
       " {'name': 'farfetchd', 'url': 'https://pokeapi.co/api/v2/pokemon/83/'},\n",
       " {'name': 'doduo', 'url': 'https://pokeapi.co/api/v2/pokemon/84/'},\n",
       " {'name': 'dodrio', 'url': 'https://pokeapi.co/api/v2/pokemon/85/'},\n",
       " {'name': 'seel', 'url': 'https://pokeapi.co/api/v2/pokemon/86/'},\n",
       " {'name': 'dewgong', 'url': 'https://pokeapi.co/api/v2/pokemon/87/'},\n",
       " {'name': 'grimer', 'url': 'https://pokeapi.co/api/v2/pokemon/88/'},\n",
       " {'name': 'muk', 'url': 'https://pokeapi.co/api/v2/pokemon/89/'},\n",
       " {'name': 'shellder', 'url': 'https://pokeapi.co/api/v2/pokemon/90/'},\n",
       " {'name': 'cloyster', 'url': 'https://pokeapi.co/api/v2/pokemon/91/'},\n",
       " {'name': 'gastly', 'url': 'https://pokeapi.co/api/v2/pokemon/92/'},\n",
       " {'name': 'haunter', 'url': 'https://pokeapi.co/api/v2/pokemon/93/'},\n",
       " {'name': 'gengar', 'url': 'https://pokeapi.co/api/v2/pokemon/94/'},\n",
       " {'name': 'onix', 'url': 'https://pokeapi.co/api/v2/pokemon/95/'},\n",
       " {'name': 'drowzee', 'url': 'https://pokeapi.co/api/v2/pokemon/96/'},\n",
       " {'name': 'hypno', 'url': 'https://pokeapi.co/api/v2/pokemon/97/'},\n",
       " {'name': 'krabby', 'url': 'https://pokeapi.co/api/v2/pokemon/98/'},\n",
       " {'name': 'kingler', 'url': 'https://pokeapi.co/api/v2/pokemon/99/'},\n",
       " {'name': 'voltorb', 'url': 'https://pokeapi.co/api/v2/pokemon/100/'},\n",
       " {'name': 'electrode', 'url': 'https://pokeapi.co/api/v2/pokemon/101/'},\n",
       " {'name': 'exeggcute', 'url': 'https://pokeapi.co/api/v2/pokemon/102/'},\n",
       " {'name': 'exeggutor', 'url': 'https://pokeapi.co/api/v2/pokemon/103/'},\n",
       " {'name': 'cubone', 'url': 'https://pokeapi.co/api/v2/pokemon/104/'},\n",
       " {'name': 'marowak', 'url': 'https://pokeapi.co/api/v2/pokemon/105/'},\n",
       " {'name': 'hitmonlee', 'url': 'https://pokeapi.co/api/v2/pokemon/106/'},\n",
       " {'name': 'hitmonchan', 'url': 'https://pokeapi.co/api/v2/pokemon/107/'},\n",
       " {'name': 'lickitung', 'url': 'https://pokeapi.co/api/v2/pokemon/108/'},\n",
       " {'name': 'koffing', 'url': 'https://pokeapi.co/api/v2/pokemon/109/'},\n",
       " {'name': 'weezing', 'url': 'https://pokeapi.co/api/v2/pokemon/110/'},\n",
       " {'name': 'rhyhorn', 'url': 'https://pokeapi.co/api/v2/pokemon/111/'},\n",
       " {'name': 'rhydon', 'url': 'https://pokeapi.co/api/v2/pokemon/112/'},\n",
       " {'name': 'chansey', 'url': 'https://pokeapi.co/api/v2/pokemon/113/'},\n",
       " {'name': 'tangela', 'url': 'https://pokeapi.co/api/v2/pokemon/114/'},\n",
       " {'name': 'kangaskhan', 'url': 'https://pokeapi.co/api/v2/pokemon/115/'},\n",
       " {'name': 'horsea', 'url': 'https://pokeapi.co/api/v2/pokemon/116/'},\n",
       " {'name': 'seadra', 'url': 'https://pokeapi.co/api/v2/pokemon/117/'},\n",
       " {'name': 'goldeen', 'url': 'https://pokeapi.co/api/v2/pokemon/118/'},\n",
       " {'name': 'seaking', 'url': 'https://pokeapi.co/api/v2/pokemon/119/'},\n",
       " {'name': 'staryu', 'url': 'https://pokeapi.co/api/v2/pokemon/120/'},\n",
       " {'name': 'starmie', 'url': 'https://pokeapi.co/api/v2/pokemon/121/'},\n",
       " {'name': 'mr-mime', 'url': 'https://pokeapi.co/api/v2/pokemon/122/'},\n",
       " {'name': 'scyther', 'url': 'https://pokeapi.co/api/v2/pokemon/123/'},\n",
       " {'name': 'jynx', 'url': 'https://pokeapi.co/api/v2/pokemon/124/'},\n",
       " {'name': 'electabuzz', 'url': 'https://pokeapi.co/api/v2/pokemon/125/'},\n",
       " {'name': 'magmar', 'url': 'https://pokeapi.co/api/v2/pokemon/126/'},\n",
       " {'name': 'pinsir', 'url': 'https://pokeapi.co/api/v2/pokemon/127/'},\n",
       " {'name': 'tauros', 'url': 'https://pokeapi.co/api/v2/pokemon/128/'},\n",
       " {'name': 'magikarp', 'url': 'https://pokeapi.co/api/v2/pokemon/129/'},\n",
       " {'name': 'gyarados', 'url': 'https://pokeapi.co/api/v2/pokemon/130/'},\n",
       " {'name': 'lapras', 'url': 'https://pokeapi.co/api/v2/pokemon/131/'},\n",
       " {'name': 'ditto', 'url': 'https://pokeapi.co/api/v2/pokemon/132/'},\n",
       " {'name': 'eevee', 'url': 'https://pokeapi.co/api/v2/pokemon/133/'},\n",
       " {'name': 'vaporeon', 'url': 'https://pokeapi.co/api/v2/pokemon/134/'},\n",
       " {'name': 'jolteon', 'url': 'https://pokeapi.co/api/v2/pokemon/135/'},\n",
       " {'name': 'flareon', 'url': 'https://pokeapi.co/api/v2/pokemon/136/'},\n",
       " {'name': 'porygon', 'url': 'https://pokeapi.co/api/v2/pokemon/137/'},\n",
       " {'name': 'omanyte', 'url': 'https://pokeapi.co/api/v2/pokemon/138/'},\n",
       " {'name': 'omastar', 'url': 'https://pokeapi.co/api/v2/pokemon/139/'},\n",
       " {'name': 'kabuto', 'url': 'https://pokeapi.co/api/v2/pokemon/140/'},\n",
       " {'name': 'kabutops', 'url': 'https://pokeapi.co/api/v2/pokemon/141/'},\n",
       " {'name': 'aerodactyl', 'url': 'https://pokeapi.co/api/v2/pokemon/142/'},\n",
       " {'name': 'snorlax', 'url': 'https://pokeapi.co/api/v2/pokemon/143/'},\n",
       " {'name': 'articuno', 'url': 'https://pokeapi.co/api/v2/pokemon/144/'},\n",
       " {'name': 'zapdos', 'url': 'https://pokeapi.co/api/v2/pokemon/145/'},\n",
       " {'name': 'moltres', 'url': 'https://pokeapi.co/api/v2/pokemon/146/'},\n",
       " {'name': 'dratini', 'url': 'https://pokeapi.co/api/v2/pokemon/147/'},\n",
       " {'name': 'dragonair', 'url': 'https://pokeapi.co/api/v2/pokemon/148/'},\n",
       " {'name': 'dragonite', 'url': 'https://pokeapi.co/api/v2/pokemon/149/'},\n",
       " {'name': 'mewtwo', 'url': 'https://pokeapi.co/api/v2/pokemon/150/'},\n",
       " {'name': 'mew', 'url': 'https://pokeapi.co/api/v2/pokemon/151/'}]"
      ]
     },
     "execution_count": 7,
     "metadata": {},
     "output_type": "execute_result"
    }
   ],
   "source": [
    "url = 'https://pokeapi.co/api/v2/pokemon/?limit=151'\n",
    "results = requests.get(url).json()['results']\n",
    "results"
   ]
  },
  {
   "cell_type": "markdown",
   "metadata": {},
   "source": [
    "Read the documentation [here](https://pokeapi.co/docs/v2.html) for information on navigating this API and use the API to obtain data to answer the following questions."
   ]
  },
  {
   "cell_type": "markdown",
   "metadata": {},
   "source": [
    "### Accessing Data\n",
    "\n",
    "For any **one** Pokemon, retrieve the following information in a dictionary format with the following keys:\n",
    " - ID\n",
    " - Name\n",
    " - Base experience\n",
    " - Weight\n",
    " - Height\n",
    " - Types\n",
    " - Abilities"
   ]
  },
  {
   "cell_type": "markdown",
   "metadata": {},
   "source": [
    "For `Types` and `Abilities`, you might want to write helper functions to have each attribute just be a list of types and a list of abilities. Your output should look like this:\n",
    "\n",
    "```\n",
    "{'id': 1, \n",
    "'name': 'bulbasaur', \n",
    "'base_experience': 64, \n",
    "'weight': 69, \n",
    "'height': 7, \n",
    "'types': ['poison', 'grass'], \n",
    "'abilities': ['chlorophyll', 'overgrow']}\n",
    "\n",
    "```"
   ]
  },
  {
   "cell_type": "code",
   "execution_count": 13,
   "metadata": {},
   "outputs": [],
   "source": [
    "# helper functions for types and abilities\n",
    "\n",
    "def type_names(info):        \n",
    "    types = info[\"types\"]\n",
    "    return [type_['type']['name'] for type_ in types]\n",
    "\n",
    "\n",
    "def ability_names(info):\n",
    "    abilities = info[\"abilities\"]\n",
    "    return [ability['ability']['name'] for ability in abilities]\n"
   ]
  },
  {
   "cell_type": "code",
   "execution_count": 14,
   "metadata": {},
   "outputs": [],
   "source": [
    "def get_pokedata(url):\n",
    "    \n",
    "    \"\"\"\n",
    "    url is a string of the URL that will get you the relevant info from the API\n",
    "    for a single pokemon. \n",
    "    Example: \"https://pokeapi.co/api/v2/pokemon/1/\"\n",
    "    \n",
    "    this function should return the dictionary for ONE pokemon\n",
    "    \n",
    "    \"\"\"\n",
    "    response = requests.get(url)\n",
    "    \n",
    "    if response.status_code == 200:\n",
    "        info = response.json()\n",
    "    \n",
    "        # list of keys with values that don't need editing\n",
    "        keys = ['id', 'name', 'base_experience', 'weight', 'height'] \n",
    "        # dictionary comprehension to extract those keys\n",
    "        data = {k: info[k] for k in keys} \n",
    "\n",
    "        # using the two helper functions to add types and abilities\n",
    "        data['types'] = type_names(info)\n",
    "        data['abilities'] = ability_names(info)\n",
    "\n",
    "        return data\n",
    "    else:\n",
    "        return {}"
   ]
  },
  {
   "cell_type": "code",
   "execution_count": 15,
   "metadata": {},
   "outputs": [
    {
     "data": {
      "text/plain": [
       "{'id': 1,\n",
       " 'name': 'bulbasaur',\n",
       " 'base_experience': 64,\n",
       " 'weight': 69,\n",
       " 'height': 7,\n",
       " 'types': ['poison', 'grass'],\n",
       " 'abilities': ['chlorophyll', 'overgrow']}"
      ]
     },
     "execution_count": 15,
     "metadata": {},
     "output_type": "execute_result"
    }
   ],
   "source": [
    "get_pokedata(\"https://pokeapi.co/api/v2/pokemon/1/\")"
   ]
  },
  {
   "cell_type": "code",
   "execution_count": 16,
   "metadata": {},
   "outputs": [
    {
     "data": {
      "text/plain": [
       "{'id': 151,\n",
       " 'name': 'mew',\n",
       " 'base_experience': 270,\n",
       " 'weight': 40,\n",
       " 'height': 4,\n",
       " 'types': ['psychic'],\n",
       " 'abilities': ['synchronize']}"
      ]
     },
     "execution_count": 16,
     "metadata": {},
     "output_type": "execute_result"
    }
   ],
   "source": [
    "get_pokedata(\"https://pokeapi.co/api/v2/pokemon/151/\")"
   ]
  },
  {
   "cell_type": "markdown",
   "metadata": {},
   "source": [
    "### Pagination\n",
    "\n",
    "Get the same information for the first **151** Pokemon as a list of dictionaries ordered by Pokemon ID. Print the first and last elements of the list. (Hint: Use pagination)\n",
    "\n",
    "Your output should save the list to a variable and look like this:\n",
    "\n",
    "```\n",
    "[{'id': 1, \n",
    "'name': 'bulbasaur', \n",
    "'base_experience': 64, \n",
    "'weight': 69, \n",
    "'height': 7, \n",
    "'types': ['poison', 'grass'], \n",
    "'abilities': ['chlorophyll', 'overgrow']}, \n",
    "{'id': 2, \n",
    "'name': 'ivysaur', \n",
    "'base_experience': 142, \n",
    "'weight': 130, \n",
    "'height': 10, \n",
    "'types': ['poison', 'grass'], \n",
    "'abilities': ['chlorophyll', 'overgrow']}, ... ]\n",
    "\n",
    "```"
   ]
  },
  {
   "cell_type": "code",
   "execution_count": 22,
   "metadata": {},
   "outputs": [],
   "source": [
    "import time\n",
    "def get_151_pokemon():\n",
    "    url = 'https://pokeapi.co/api/v2/pokemon/?limit=151'\n",
    "    results = requests.get(url).json()['results']\n",
    "    \n",
    "    urls = [result[\"url\"] for result in results]\n",
    "    \n",
    "    first_99_urls = urls[:99]\n",
    "    remaining_urls = urls[99:]\n",
    "    \n",
    "    first_99_pokemon = get_pokemon(first_99_urls)\n",
    "    time.sleep(60)\n",
    "    remaining_pokemon = get_pokemon(remaining_urls)\n",
    "    \n",
    "    first_99_pokemon.extend(remaining_pokemon)\n",
    "    \n",
    "    return first_99_pokemon\n",
    "\n",
    "def get_pokemon(urls):\n",
    "    pokemon = []\n",
    "    for url in urls:\n",
    "        data = get_pokedata(url)\n",
    "        pokemon.append(data)\n",
    "    return pokemon\n",
    "        \n",
    "    "
   ]
  },
  {
   "cell_type": "code",
   "execution_count": 23,
   "metadata": {},
   "outputs": [],
   "source": [
    "pokemon = get_151_pokemon()"
   ]
  },
  {
   "cell_type": "code",
   "execution_count": 27,
   "metadata": {},
   "outputs": [
    {
     "data": {
      "text/plain": [
       "{'id': 1,\n",
       " 'name': 'bulbasaur',\n",
       " 'base_experience': 64,\n",
       " 'weight': 69,\n",
       " 'height': 7,\n",
       " 'types': ['poison', 'grass'],\n",
       " 'abilities': ['chlorophyll', 'overgrow']}"
      ]
     },
     "execution_count": 27,
     "metadata": {},
     "output_type": "execute_result"
    }
   ],
   "source": [
    "pokemon[0]"
   ]
  },
  {
   "cell_type": "code",
   "execution_count": 29,
   "metadata": {},
   "outputs": [
    {
     "data": {
      "text/plain": [
       "{'id': 151,\n",
       " 'name': 'mew',\n",
       " 'base_experience': 270,\n",
       " 'weight': 40,\n",
       " 'height': 4,\n",
       " 'types': ['psychic'],\n",
       " 'abilities': ['synchronize']}"
      ]
     },
     "execution_count": 29,
     "metadata": {},
     "output_type": "execute_result"
    }
   ],
   "source": [
    "pokemon[150]"
   ]
  },
  {
   "cell_type": "markdown",
   "metadata": {},
   "source": [
    "## Bonus Exercise\n",
    "1. Query the [NASA ISS API](http://api.open-notify.org/) and print out the current latitude and longitude of the ISS\n",
    "2. Using iPyLeaflet, make a [Map](https://ipyleaflet.readthedocs.io/en/latest/api_reference/map.html) with a [Marker](https://ipyleaflet.readthedocs.io/en/latest/api_reference/marker.html) at the current location of the ISS"
   ]
  },
  {
   "cell_type": "code",
   "execution_count": 24,
   "metadata": {},
   "outputs": [],
   "source": [
    "from ipyleaflet import Map, Marker"
   ]
  },
  {
   "cell_type": "code",
   "execution_count": 25,
   "metadata": {},
   "outputs": [],
   "source": [
    "response = requests.get(\"http://api.open-notify.org/iss-now.json\")\n",
    "response_dict = response.json()\n",
    "\n",
    "iss_position = response_dict[\"iss_position\"]\n",
    "\n",
    "lat = iss_position[\"latitude\"]\n",
    "long = iss_position[\"longitude\"]\n",
    "\n",
    "location=(float(lat), float(long))"
   ]
  },
  {
   "cell_type": "code",
   "execution_count": 26,
   "metadata": {},
   "outputs": [
    {
     "data": {
      "application/vnd.jupyter.widget-view+json": {
       "model_id": "1a98b112b9be4bbcb2639f300c949730",
       "version_major": 2,
       "version_minor": 0
      },
      "text/plain": [
       "Map(basemap={'url': 'https://{s}.tile.openstreetmap.org/{z}/{x}/{y}.png', 'max_zoom': 19, 'attribution': 'Map …"
      ]
     },
     "metadata": {},
     "output_type": "display_data"
    }
   ],
   "source": [
    "map_ = Map(\n",
    "    center=location,\n",
    "    zoom=3)\n",
    "marker = Marker(location=location)\n",
    "map_.add_layer(marker)\n",
    "map_"
   ]
  },
  {
   "cell_type": "code",
   "execution_count": null,
   "metadata": {},
   "outputs": [],
   "source": []
  }
 ],
 "metadata": {
  "kernelspec": {
   "display_name": "Python 3",
   "language": "python",
   "name": "python3"
  },
  "language_info": {
   "codemirror_mode": {
    "name": "ipython",
    "version": 3
   },
   "file_extension": ".py",
   "mimetype": "text/x-python",
   "name": "python",
   "nbconvert_exporter": "python",
   "pygments_lexer": "ipython3",
   "version": "3.7.3"
  }
 },
 "nbformat": 4,
 "nbformat_minor": 4
}
